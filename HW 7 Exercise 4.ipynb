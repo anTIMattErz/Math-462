{
 "cells": [
  {
   "cell_type": "code",
   "execution_count": 27,
   "metadata": {},
   "outputs": [
    {
     "name": "stderr",
     "output_type": "stream",
     "text": [
      "C:\\Anaconda3\\lib\\site-packages\\scipy\\optimize\\minpack.py:163: RuntimeWarning: The iteration is not making good progress, as measured by the \n",
      "  improvement from the last ten iterations.\n",
      "  warnings.warn(msg, RuntimeWarning)\n"
     ]
    }
   ],
   "source": [
    "import scipy.optimize\n",
    "import numpy as np\n",
    "\n",
    "def f(x,lam):\n",
    "    \"\"\"\n",
    "    Logistic map function.\n",
    "    \"\"\"\n",
    "    return lam*x*(1-x)\n",
    "\n",
    "def nest(f,n,x,lam):\n",
    "    \"\"\"\n",
    "    Takes a function f and applies it to x n times.\n",
    "    \"\"\"\n",
    "    if n == 1:\n",
    "        return f(x, lam)\n",
    "    else:\n",
    "        return f(nest(f,n-1,x, lam),lam)\n",
    "def f2(x, lam):\n",
    "    return nest(f,2,x,lam)\n",
    "def f3(x, lam):\n",
    "    return nest(f,3,x,lam)\n",
    "def f4(x,lam):\n",
    "    return nest(f,4,x,lam)\n",
    "\n",
    "lamb = 2.5\n",
    "\n",
    "def dif1(x):\n",
    "    return f(x, lamb)-x\n",
    "def dif2(x):\n",
    "    return nest(f, 2, x, lamb)-x\n",
    "def dif3(x):\n",
    "    return nest(f, 3, x, lamb)-x\n",
    "def dif4(x):\n",
    "    return nest(f, 4, x, lamb)-x\n",
    "\n",
    "starts = np.linspace(0,1,100)\n",
    "th = 1e-7\n",
    "zeros_1 = np.sort(scipy.optimize.fsolve(dif1,starts))\n",
    "# now deleting elements that are sufficiently close\n",
    "zeros_1_clean = np.delete(zeros_1, np.argwhere(np.ediff1d(zeros_1)<= th))\n",
    "\n",
    "zeros_2 = np.sort(scipy.optimize.fsolve(dif2,starts))\n",
    "# now deleting elements that are sufficiently close\n",
    "zeros_2_clean = np.delete(zeros_2, np.argwhere(np.ediff1d(zeros_2)<= th))\n",
    "\n",
    "zeros_3 = np.sort(scipy.optimize.fsolve(dif3,starts))\n",
    "# now deleting elements that are sufficiently close\n",
    "zeros_3_clean = np.delete(zeros_3, np.argwhere(np.ediff1d(zeros_3)<= th))\n",
    "\n",
    "zeros_4 = np.sort(scipy.optimize.fsolve(dif4,starts))\n",
    "# now deleting elements that are sufficiently close\n",
    "zeros_4_clean = np.delete(zeros_4, np.argwhere(np.ediff1d(zeros_4)<= th))"
   ]
  },
  {
   "cell_type": "code",
   "execution_count": 32,
   "metadata": {},
   "outputs": [
    {
     "name": "stdout",
     "output_type": "stream",
     "text": [
      "[6.85370947e-11 6.00000000e-01]\n"
     ]
    }
   ],
   "source": [
    "print(zeros_1_clean)"
   ]
  },
  {
   "cell_type": "code",
   "execution_count": 33,
   "metadata": {},
   "outputs": [
    {
     "name": "stdout",
     "output_type": "stream",
     "text": [
      "[1.32431189e-12 6.00000001e-01]\n"
     ]
    }
   ],
   "source": [
    "print(zeros_2_clean)"
   ]
  },
  {
   "cell_type": "code",
   "execution_count": 34,
   "metadata": {},
   "outputs": [
    {
     "name": "stdout",
     "output_type": "stream",
     "text": [
      "[5.14007630e-10 6.00000001e-01]\n"
     ]
    }
   ],
   "source": [
    "print(zeros_3_clean)"
   ]
  },
  {
   "cell_type": "code",
   "execution_count": 35,
   "metadata": {},
   "outputs": [
    {
     "name": "stdout",
     "output_type": "stream",
     "text": [
      "[0.         0.01010101 0.02020202 0.03030303 0.04040404 0.05050505\n",
      " 0.06060606 0.07070707 0.08080808 0.09090909 0.1010101  0.11111111\n",
      " 0.12121212 0.13131313 0.14141414 0.15151515 0.16161616 0.17171717\n",
      " 0.18181818 0.19191919 0.2020202  0.21212121 0.22222222 0.23232323\n",
      " 0.24242424 0.25252525 0.26262626 0.27272727 0.28282828 0.29292929\n",
      " 0.3030303  0.31313131 0.32323232 0.33333333 0.34343434 0.35353535\n",
      " 0.36363636 0.37373737 0.38383838 0.39393939 0.4040404  0.41414141\n",
      " 0.42424242 0.43434343 0.44444444 0.45454545 0.46464646 0.47474747\n",
      " 0.48484848 0.49494949 0.50505051 0.51515152 0.52525253 0.53535354\n",
      " 0.54545455 0.55555556 0.56565657 0.57575758 0.58585859 0.5959596\n",
      " 0.60606061 0.61616162 0.62626263 0.63636364 0.64646465 0.65656566\n",
      " 0.66666667 0.67676768 0.68686869 0.6969697  0.70707071 0.71717172\n",
      " 0.72727273 0.73737374 0.74747475 0.75757576 0.76767677 0.77777778\n",
      " 0.78787879 0.7979798  0.80808081 0.81818182 0.82828283 0.83838384\n",
      " 0.84848485 0.85858586 0.86868687 0.87878788 0.88888889 0.8989899\n",
      " 0.90909091 0.91919192 0.92929293 0.93939394 0.94949495 0.95959596\n",
      " 0.96969697 0.97979798 0.98989899 1.        ]\n"
     ]
    }
   ],
   "source": [
    "print(zeros_4_clean)"
   ]
  },
  {
   "cell_type": "code",
   "execution_count": null,
   "metadata": {
    "collapsed": true
   },
   "outputs": [],
   "source": []
  }
 ],
 "metadata": {
  "kernelspec": {
   "display_name": "Python 3",
   "language": "python",
   "name": "python3"
  },
  "language_info": {
   "codemirror_mode": {
    "name": "ipython",
    "version": 3
   },
   "file_extension": ".py",
   "mimetype": "text/x-python",
   "name": "python",
   "nbconvert_exporter": "python",
   "pygments_lexer": "ipython3",
   "version": "3.5.6"
  }
 },
 "nbformat": 4,
 "nbformat_minor": 4
}
